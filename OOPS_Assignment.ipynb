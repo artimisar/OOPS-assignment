{
  "nbformat": 4,
  "nbformat_minor": 0,
  "metadata": {
    "colab": {
      "provenance": []
    },
    "kernelspec": {
      "name": "python3",
      "display_name": "Python 3"
    },
    "language_info": {
      "name": "python"
    }
  },
  "cells": [
    {
      "cell_type": "markdown",
      "source": [],
      "metadata": {
        "id": "_WnzgyWmi67z"
      }
    },
    {
      "cell_type": "markdown",
      "source": [
        "#1.What is Object-Oriented Programming (OOP)?\n",
        "\n",
        "\n",
        "*   OOP is a programming paradigm based on the concept of objects, which contain data (attributes) and methods (functions). It helps in organizing code, making it reusable and modular.\n",
        "\n"
      ],
      "metadata": {
        "id": "614RdhJbi_D5"
      }
    },
    {
      "cell_type": "markdown",
      "source": [
        "#2.What is a class in OOP?\n",
        "\n",
        "\n",
        "*   A class is a blueprint for creating objects. It defines attributes (variables) and methods (functions) that the objects will have.\n",
        "\n"
      ],
      "metadata": {
        "id": "hklBTvHmjgwC"
      }
    },
    {
      "cell_type": "markdown",
      "source": [
        "#3.What is an object in OOP?\n",
        "\n",
        "\n",
        "* An object is an instance of a class. It has specific values assigned to its attributes and can use the methods defined in the class.\n",
        "\n"
      ],
      "metadata": {
        "id": "4N1rAP7mjspW"
      }
    },
    {
      "cell_type": "markdown",
      "source": [
        "4.What is the difference between abstraction and encapsulation?\n",
        "\n",
        "\n",
        "*   Abstraction hides the implementation details and shows only the necessary features.\n",
        "\n",
        "\n",
        "*   Encapsulation is the process of restricting direct access to some components of an object and allowing controlled access using methods.\n",
        "\n",
        "\n",
        "\n",
        "\n",
        "\n"
      ],
      "metadata": {
        "id": "AGmLsgBlj_TV"
      }
    },
    {
      "cell_type": "markdown",
      "source": [
        "5.What are dunder methods in Python?\n",
        "\n",
        "\n",
        "*   Dunder (double underscore) methods, also called magic methods, are special methods in Python that start and end with __. Examples: __init__, __str__, __repr__.\n",
        "\n"
      ],
      "metadata": {
        "id": "_qbdhFHLkcB-"
      }
    },
    {
      "cell_type": "markdown",
      "source": [
        "6.Explain the concept of inheritance in OOP.\n",
        "\n",
        "\n",
        "*   Inheritance allows a class (child class) to inherit properties and methods from another class (parent class), promoting code reuse.\n",
        "\n"
      ],
      "metadata": {
        "id": "9rUNd-eYkl_4"
      }
    },
    {
      "cell_type": "markdown",
      "source": [
        "7.What is polymorphism in OOP?\n",
        "\n",
        "\n",
        "*  Polymorphism allows the same method name to have different implementations in different classes.\n",
        "\n"
      ],
      "metadata": {
        "id": "MBw28IGZkwim"
      }
    },
    {
      "cell_type": "markdown",
      "source": [
        "8.How is encapsulation achieved in Python?\n",
        "\n",
        "\n",
        "*   Encapsulation is achieved using private (__attribute), protected (_attribute), and public attributes and methods.\n",
        "\n"
      ],
      "metadata": {
        "id": "1n9LgHO2lBEv"
      }
    },
    {
      "cell_type": "markdown",
      "source": [
        "9.What is a constructor in Python?\n",
        "\n",
        "\n",
        "*  A constructor (__init__ method) is a special method that is called when an object is created to initialize attributes.\n",
        "\n"
      ],
      "metadata": {
        "id": "MCNdF_-0lKnp"
      }
    },
    {
      "cell_type": "markdown",
      "source": [
        "10.What are class and static methods in Python?\n",
        "\n",
        "\n",
        "*   Class methods (@classmethod) operate on the class rather than instances.\n",
        "\n",
        "\n",
        "*     Static methods (@staticmethod) do not access class or instance attributes.\n",
        "\n",
        "\n",
        "\n"
      ],
      "metadata": {
        "id": "StuxkdXNlZLc"
      }
    },
    {
      "cell_type": "markdown",
      "source": [
        "11.What is method overloading in Python?\n",
        "\n",
        "\n",
        "*   Python does not support traditional method overloading. However, we can achieve it using default arguments or *args.\n",
        "\n"
      ],
      "metadata": {
        "id": "lD08_OKnl4dY"
      }
    },
    {
      "cell_type": "markdown",
      "source": [
        "12.What is method overriding in OOP?\n",
        "\n",
        "\n",
        "*   Method overriding occurs when a subclass provides a different implementation of a method already defined in its parent class.\n",
        "\n"
      ],
      "metadata": {
        "id": "yZ_PobGtmFln"
      }
    },
    {
      "cell_type": "markdown",
      "source": [
        "13.What is a property decorator in Python?\n",
        "\n",
        "\n",
        "*   The @property decorator allows a method to be accessed as an attribute.\n",
        "\n"
      ],
      "metadata": {
        "id": "HsGos3uAmP-5"
      }
    },
    {
      "cell_type": "markdown",
      "source": [
        "14.Why is polymorphism important in OOP?\n",
        "\n",
        "\n",
        "\n",
        "*   It allows different classes to have methods with the same name, making the code more flexible and reusable.\n",
        "\n",
        "\n",
        "\n"
      ],
      "metadata": {
        "id": "e-1rS7YUmYcv"
      }
    },
    {
      "cell_type": "markdown",
      "source": [
        "15.What is an abstract class in Python?\n",
        "\n",
        "\n",
        "*   An abstract class (defined using ABC module) cannot be instantiated and must have at least one abstract method.\n",
        "\n"
      ],
      "metadata": {
        "id": "1j-ssnKcmpwR"
      }
    },
    {
      "cell_type": "markdown",
      "source": [
        "16.What are the advantages of OOP?\n",
        "\n",
        "\n",
        "*   Code reusability, modularity, data hiding, scalability, and maintainability.\n",
        "\n"
      ],
      "metadata": {
        "id": "ok0j2Zv0m2Ua"
      }
    },
    {
      "cell_type": "markdown",
      "source": [
        "17.What is the difference between a class variable and an instance variable?\n",
        "\n",
        "\n",
        "\n",
        "\n",
        "*   Class variable: Shared by all instances of a class.\n",
        "    \n",
        "*  Instance variable: Specific to each object.\n",
        "\n",
        "\n"
      ],
      "metadata": {
        "id": "PLV9ckQ0nAr5"
      }
    },
    {
      "cell_type": "markdown",
      "source": [
        "18.What is multiple inheritance in Python?\n",
        "\n",
        "\n",
        "*  Multiple inheritance allows a class to inherit from more than one parent class.\n",
        "\n"
      ],
      "metadata": {
        "id": "awIad-Z2nccl"
      }
    },
    {
      "cell_type": "markdown",
      "source": [
        "19.Explain the purpose of __str__ and __repr__ methods in Python.\n",
        "\n",
        "\n",
        "*   __str__ is used for user-friendly string representation.\n",
        "\n",
        "\n",
        "*  repr__ is used for an official representation of an object (useful for debugging)\n",
        "\n",
        "\n",
        "\n"
      ],
      "metadata": {
        "id": "ZQiXd9D3w4jC"
      }
    },
    {
      "cell_type": "markdown",
      "source": [
        "20.What is the significance of the super() function in Python?\n",
        "\n",
        "\n",
        "*   The super() function allows a subclass to call methods of its parent class.\n",
        "\n"
      ],
      "metadata": {
        "id": "-cP4QuvuxZQT"
      }
    },
    {
      "cell_type": "markdown",
      "source": [
        "21.What is the significance of the __del__ method in Python?\n",
        "\n",
        "\n",
        "*   __del__ is the destructor method that gets called when an object is deleted.\n",
        "\n"
      ],
      "metadata": {
        "id": "OV_auQZ9xl4n"
      }
    },
    {
      "cell_type": "markdown",
      "source": [
        "22.What is the difference between @staticmethod and @classmethod in Python?\n",
        "\n",
        "\n",
        "*   @staticmethod does not access class or instance attributes.\n",
        "\n",
        "\n",
        "*   @classmethod takes cls as a parameter and can access class variables.\n",
        "\n",
        "\n",
        "\n"
      ],
      "metadata": {
        "id": "4gigFlPFx0PH"
      }
    },
    {
      "cell_type": "markdown",
      "source": [
        "23.How does polymorphism work in Python with inheritance?\n",
        "\n",
        "\n",
        "\n",
        "\n",
        "*   A subclass can override a method from the parent class while keeping the same method name.\n",
        "\n",
        "\n",
        "\n"
      ],
      "metadata": {
        "id": "pw4-EipsyHiu"
      }
    },
    {
      "cell_type": "markdown",
      "source": [
        "24.What is method chaining in Python OOP?\n",
        "\n",
        "\n",
        "*   Method chaining allows calling multiple methods on the same object in a single statement.\n",
        "\n"
      ],
      "metadata": {
        "id": "MKfhSd9iyVOv"
      }
    },
    {
      "cell_type": "markdown",
      "source": [
        "25.What is the purpose of the __call__ method in Python?\n",
        "\n",
        "\n",
        "*   What is the purpose of the __call__ method in Python?\n"
      ],
      "metadata": {
        "id": "4CJqHX7QygCx"
      }
    },
    {
      "cell_type": "markdown",
      "source": [
        "Practical Question:"
      ],
      "metadata": {
        "id": "Vp3EFR-uyyEy"
      }
    },
    {
      "cell_type": "code",
      "source": [
        "#1.Create a parent class Animal with a method speak(). Create a child class Dog that overrides speak() to print \"Bark!\".\n",
        "class Animal:\n",
        "  def speak(self):\n",
        "    print(\"Animal Speak\")\n",
        "class Dog(Animal):\n",
        "  def speak(self):\n",
        "    print(\"Bark\")\n",
        ""
      ],
      "metadata": {
        "id": "c61WoxA3za9w"
      },
      "execution_count": 1,
      "outputs": []
    },
    {
      "cell_type": "code",
      "source": [
        "obj=Dog()\n",
        "obj.speak()"
      ],
      "metadata": {
        "colab": {
          "base_uri": "https://localhost:8080/"
        },
        "id": "ZgYzWoKrF7xP",
        "outputId": "53964bcd-9316-41ad-f204-dd394f18ee93"
      },
      "execution_count": 2,
      "outputs": [
        {
          "output_type": "stream",
          "name": "stdout",
          "text": [
            "Bark\n"
          ]
        }
      ]
    },
    {
      "cell_type": "code",
      "source": [
        "2.#Create an abstract class Shape with a method area(). Derive classes Circle and Rectangle and implement the area() method in both.\n",
        "import abc\n",
        "class Shape:\n",
        "  @abc.abstractmethod\n",
        "  def calculate_area(self):\n",
        "    pass\n",
        "class Rectangle(Shape):\n",
        "  def calculate_area(self):\n",
        "    return \"Area of the reactangle is lenght*breadth\"\n",
        "class circle(Shape):\n",
        "  def calculate_area(self):\n",
        "    return \"Area of the circle is pi*r*r\"\n"
      ],
      "metadata": {
        "id": "Mh5ncWh0GJsT"
      },
      "execution_count": 5,
      "outputs": []
    },
    {
      "cell_type": "code",
      "source": [
        "rect=Rectangle()\n",
        "rect.calculate_area()"
      ],
      "metadata": {
        "colab": {
          "base_uri": "https://localhost:8080/",
          "height": 35
        },
        "id": "28T5IsonJGNJ",
        "outputId": "a8a34960-9d66-4acc-86cb-89953a7dd7ec"
      },
      "execution_count": 6,
      "outputs": [
        {
          "output_type": "execute_result",
          "data": {
            "text/plain": [
              "'Area of the reactangle is lenght*breadth'"
            ],
            "application/vnd.google.colaboratory.intrinsic+json": {
              "type": "string"
            }
          },
          "metadata": {},
          "execution_count": 6
        }
      ]
    },
    {
      "cell_type": "code",
      "source": [
        "cir=circle()\n",
        "cir.calculate_area()"
      ],
      "metadata": {
        "colab": {
          "base_uri": "https://localhost:8080/",
          "height": 35
        },
        "id": "aV4_8FtmJRMs",
        "outputId": "b86f52a9-5f2c-4c01-8a80-3e22e05c0e79"
      },
      "execution_count": 7,
      "outputs": [
        {
          "output_type": "execute_result",
          "data": {
            "text/plain": [
              "'Area of the circle is pi*r*r'"
            ],
            "application/vnd.google.colaboratory.intrinsic+json": {
              "type": "string"
            }
          },
          "metadata": {},
          "execution_count": 7
        }
      ]
    },
    {
      "cell_type": "code",
      "source": [
        "3.#Implement multi-level inheritance where Vehicle → Car → ElectricCar with an additional battery attribute.\n",
        "class Vehicle:\n",
        "    def __init__(self, type):\n",
        "        self.type = type\n",
        "\n",
        "class Car(Vehicle):\n",
        "    def __init__(self, type, brand):\n",
        "        super().__init__(type)\n",
        "        self.brand = brand\n",
        "\n",
        "class ElectricCar(Car):\n",
        "    def __init__(self, type, brand, battery_capacity):\n",
        "        super().__init__(type, brand)\n",
        "        self.battery_capacity = battery_capacity\n"
      ],
      "metadata": {
        "id": "I6O3iwpkJYL7"
      },
      "execution_count": 8,
      "outputs": []
    },
    {
      "cell_type": "code",
      "source": [
        "obj=ElectricCar(\"Electric\",\"Tesla\",100)\n",
        "print(obj.type)\n",
        "print(obj.brand)\n",
        "print(obj.battery_capacity)"
      ],
      "metadata": {
        "colab": {
          "base_uri": "https://localhost:8080/"
        },
        "id": "7GFo8wYqUZLR",
        "outputId": "84d50bc7-7143-488c-f238-763e87393639"
      },
      "execution_count": 10,
      "outputs": [
        {
          "output_type": "stream",
          "name": "stdout",
          "text": [
            "Electric\n",
            "Tesla\n",
            "100\n"
          ]
        }
      ]
    },
    {
      "cell_type": "code",
      "source": [
        "#4.Demonstrate polymorphism using a base class Bird with a method fly(). Create Sparrow and Penguin that override fly().\n",
        "class Bird:\n",
        "    def fly(self):\n",
        "        print(\"Flying in the sky!\")\n",
        "\n",
        "class Sparrow(Bird):\n",
        "    def fly(self):\n",
        "        print(\"Sparrow flies high!\")\n",
        "\n",
        "class Penguin(Bird):\n",
        "    def fly(self):\n",
        "        print(\"Penguins cannot fly!\")\n",
        "\n",
        "\n"
      ],
      "metadata": {
        "id": "hGZohaA4ULff"
      },
      "execution_count": 9,
      "outputs": []
    },
    {
      "cell_type": "code",
      "source": [
        "birds=[Sparrow(),Penguin()]\n",
        "for birds in birds:\n",
        "  birds.fly()"
      ],
      "metadata": {
        "colab": {
          "base_uri": "https://localhost:8080/"
        },
        "id": "M_F400WaU7RE",
        "outputId": "c4105b59-17c3-411f-80d1-2b76cc8a7d14"
      },
      "execution_count": 11,
      "outputs": [
        {
          "output_type": "stream",
          "name": "stdout",
          "text": [
            "Sparrow flies high!\n",
            "Penguins cannot fly!\n"
          ]
        }
      ]
    },
    {
      "cell_type": "code",
      "source": [
        "#5.Demonstrate encapsulation by creating a BankAccount class with private attributes and deposit/withdraw methods.\n",
        "class BankAccount:\n",
        "    def __init__(self, balance):\n",
        "        self.__balance = balance\n",
        "\n",
        "    def deposit(self, amount):\n",
        "        self.__balance += amount\n",
        "\n",
        "    def withdraw(self, amount):\n",
        "        if amount <= self.__balance:\n",
        "            self.__balance -= amount\n",
        "        else:\n",
        "            print(\"Insufficient funds!\")\n",
        "\n",
        "    def get_balance(self):\n",
        "        return self.__balance\n",
        "\n"
      ],
      "metadata": {
        "id": "2vuhgNkQYVqK"
      },
      "execution_count": 13,
      "outputs": []
    },
    {
      "cell_type": "code",
      "source": [
        "account=BankAccount(1000)\n",
        "account.deposit(500)\n",
        "account.withdraw(200)\n",
        "print(account.get_balance())"
      ],
      "metadata": {
        "colab": {
          "base_uri": "https://localhost:8080/"
        },
        "id": "_DYc1lmbYgcD",
        "outputId": "330a931e-0526-42c0-a6e3-56716a568a45"
      },
      "execution_count": 17,
      "outputs": [
        {
          "output_type": "stream",
          "name": "stdout",
          "text": [
            "1300\n"
          ]
        }
      ]
    },
    {
      "cell_type": "code",
      "source": [
        "#6.Demonstrate runtime polymorphism using a method play() in Instrument and derived classes Guitar and Piano.\n",
        "class Instrument:\n",
        "    def play(self):\n",
        "        print(\"Playing an instrument\")\n",
        "\n",
        "class Guitar(Instrument):\n",
        "    def play(self):\n",
        "        print(\"Playing the guitar\")\n",
        "\n",
        "class Piano(Instrument):\n",
        "    def play(self):\n",
        "        print(\"Playing the piano\")\n",
        "\n",
        "\n"
      ],
      "metadata": {
        "id": "NcROvJgJZN6E"
      },
      "execution_count": 30,
      "outputs": []
    },
    {
      "cell_type": "code",
      "source": [
        "guitar=Guitar()\n",
        "piano=Piano()\n",
        "guitar.play()\n",
        "piano.play()"
      ],
      "metadata": {
        "colab": {
          "base_uri": "https://localhost:8080/"
        },
        "id": "hGIlYJlDZfXL",
        "outputId": "4a89ae9b-95c8-4313-a2fc-882485a9f3b9"
      },
      "execution_count": 31,
      "outputs": [
        {
          "output_type": "stream",
          "name": "stdout",
          "text": [
            "Playing the guitar\n",
            "Playing the piano\n"
          ]
        }
      ]
    },
    {
      "cell_type": "code",
      "source": [
        "#7.Create a MathOperations class with add_numbers() as a class method and subtract_numbers() as a static method.\n",
        "class MathOperations:\n",
        "    @classmethod\n",
        "    def add_numbers(cls, a, b):\n",
        "        return a + b\n",
        "\n",
        "    @staticmethod\n",
        "    def subtract_numbers(a, b):\n",
        "        return a - b\n",
        "\n"
      ],
      "metadata": {
        "id": "5ua1wXKmavk2"
      },
      "execution_count": 33,
      "outputs": []
    },
    {
      "cell_type": "code",
      "source": [
        "print(MathOperations.add_numbers(5, 3))\n",
        "print(MathOperations.subtract_numbers(5, 3))"
      ],
      "metadata": {
        "colab": {
          "base_uri": "https://localhost:8080/"
        },
        "id": "FRHYDAcQcJBJ",
        "outputId": "778836e2-64d7-49da-ba6b-88e46ea5f68f"
      },
      "execution_count": 34,
      "outputs": [
        {
          "output_type": "stream",
          "name": "stdout",
          "text": [
            "8\n",
            "2\n"
          ]
        }
      ]
    },
    {
      "cell_type": "code",
      "source": [
        "#8Implement a Person class with a class method to count the number of persons created\n",
        "class Person:\n",
        "    count = 0\n",
        "\n",
        "    def __init__(self, name):\n",
        "        self.name = name\n",
        "        Person.count += 1\n",
        "\n",
        "    @classmethod\n",
        "    def get_count(cls):\n",
        "        return cls.count"
      ],
      "metadata": {
        "id": "dTj5NE7icZXk"
      },
      "execution_count": 35,
      "outputs": []
    },
    {
      "cell_type": "code",
      "source": [
        "p1=Person(\"Alice\")\n",
        "p2=Person(\"Bob\")\n",
        "print(Person.get_count())"
      ],
      "metadata": {
        "colab": {
          "base_uri": "https://localhost:8080/"
        },
        "id": "wQn3IAWDcjm4",
        "outputId": "5f723e47-f9f9-4184-c762-671865049d75"
      },
      "execution_count": 36,
      "outputs": [
        {
          "output_type": "stream",
          "name": "stdout",
          "text": [
            "2\n"
          ]
        }
      ]
    },
    {
      "cell_type": "code",
      "source": [
        "#9.. Create a Fraction class that overrides __str__ to display fraction as numerator/denominator.\n",
        "class Fraction:\n",
        "    def __init__(self, numerator, denominator):\n",
        "        self.numerator = numerator\n",
        "        self.denominator = denominator\n",
        "\n",
        "    def __str__(self):\n",
        "        return f\"{self.numerator}/{self.denominator}\"\n",
        "\n",
        "\n"
      ],
      "metadata": {
        "id": "Lq-ISz4pcusO"
      },
      "execution_count": 38,
      "outputs": []
    },
    {
      "cell_type": "code",
      "source": [
        "frac=Fraction(3,4)\n",
        "print(frac)"
      ],
      "metadata": {
        "colab": {
          "base_uri": "https://localhost:8080/"
        },
        "id": "Ga6A68sQc2xp",
        "outputId": "0743562a-7b9d-403a-947a-6e3a4c0031df"
      },
      "execution_count": 39,
      "outputs": [
        {
          "output_type": "stream",
          "name": "stdout",
          "text": [
            "3/4\n"
          ]
        }
      ]
    },
    {
      "cell_type": "code",
      "source": [
        "#10Demonstrate operator overloading by creating a Vector class and overriding + operator.\n",
        "class Vector:\n",
        "    def __init__(self, x, y):\n",
        "        self.x = x\n",
        "        self.y = y\n",
        "\n",
        "    def __add__(self, other):\n",
        "        return Vector(self.x + other.x, self.y + other.y)\n",
        "\n",
        "    def __str__(self):\n",
        "        return f\"({self.x}, {self.y})\"\n",
        "\n"
      ],
      "metadata": {
        "id": "qAwADsWSdFMz"
      },
      "execution_count": 41,
      "outputs": []
    },
    {
      "cell_type": "code",
      "source": [
        "v1=Vector(1,2)\n",
        "v2=Vector(3,4)\n",
        "print(v1+v2)"
      ],
      "metadata": {
        "colab": {
          "base_uri": "https://localhost:8080/"
        },
        "id": "b3IvAmiXdPjs",
        "outputId": "cd7cab84-fb25-4509-f313-d6e6ec701369"
      },
      "execution_count": 42,
      "outputs": [
        {
          "output_type": "stream",
          "name": "stdout",
          "text": [
            "(4, 6)\n"
          ]
        }
      ]
    },
    {
      "cell_type": "code",
      "source": [
        "#11.Create a Person class with a greet() method.\n",
        "class Person:\n",
        "    def __init__(self, name, age):\n",
        "        self.name = name\n",
        "        self.age = age\n",
        "\n",
        "    def greet(self):\n",
        "        print(f\"Hello, my name is {self.name} and I am {self.age} years old.\")\n",
        "\n"
      ],
      "metadata": {
        "id": "AFx4scKydTh9"
      },
      "execution_count": 43,
      "outputs": []
    },
    {
      "cell_type": "code",
      "source": [
        "p=Person(\"Alice\",30)\n",
        "p.greet()"
      ],
      "metadata": {
        "colab": {
          "base_uri": "https://localhost:8080/"
        },
        "id": "nuxfnTmgdfY_",
        "outputId": "48cbdf4d-0d61-4734-b1e2-0e92d5539c8c"
      },
      "execution_count": 44,
      "outputs": [
        {
          "output_type": "stream",
          "name": "stdout",
          "text": [
            "Hello, my name is Alice and I am 30 years old.\n"
          ]
        }
      ]
    },
    {
      "cell_type": "code",
      "source": [
        "#12.Create a Student class with an average_grade() method.\n",
        "class Student:\n",
        "    def __init__(self, name, grades):\n",
        "        self.name = name\n",
        "        self.grades = grades\n",
        "\n",
        "    def average_grade(self):\n",
        "        return sum(self.grades) / len(self.grades)\n"
      ],
      "metadata": {
        "id": "zI9zhJbidkk8"
      },
      "execution_count": 45,
      "outputs": []
    },
    {
      "cell_type": "code",
      "source": [
        "Student=Student(\"Alice\",[80,90,70])\n",
        "print(Student.average_grade())"
      ],
      "metadata": {
        "colab": {
          "base_uri": "https://localhost:8080/"
        },
        "id": "TqagXGiwdyxh",
        "outputId": "2a7e77ac-02bc-450e-e24c-b1d21b3f118a"
      },
      "execution_count": 46,
      "outputs": [
        {
          "output_type": "stream",
          "name": "stdout",
          "text": [
            "80.0\n"
          ]
        }
      ]
    },
    {
      "cell_type": "code",
      "source": [
        "#13.Create a Rectangle class with set_dimensions() and area().\n",
        "class Rectangle:\n",
        "    def set_dimensions(self, length, width):\n",
        "        self.length = length\n",
        "        self.width = width\n",
        "\n",
        "    def area(self):\n",
        "        return self.length * self.width\n",
        "\n"
      ],
      "metadata": {
        "id": "NQJGMsG5d-VM"
      },
      "execution_count": 47,
      "outputs": []
    },
    {
      "cell_type": "code",
      "source": [
        "rect = Rectangle()\n",
        "rect.set_dimensions(4, 5)\n",
        "print(rect.area())"
      ],
      "metadata": {
        "colab": {
          "base_uri": "https://localhost:8080/"
        },
        "id": "TL4Yjd5neJzV",
        "outputId": "ac5a0e24-0509-4853-d75d-1181b3d6a143"
      },
      "execution_count": 48,
      "outputs": [
        {
          "output_type": "stream",
          "name": "stdout",
          "text": [
            "20\n"
          ]
        }
      ]
    },
    {
      "cell_type": "code",
      "source": [
        "#14.Create an Employee class with calculate_salary() and a derived Manager class adding a bonus.\n",
        "class Employee:\n",
        "    def __init__(self, hours, rate):\n",
        "        self.hours = hours\n",
        "        self.rate = rate\n",
        "\n",
        "    def calculate_salary(self):\n",
        "        return self.hours * self.rate\n",
        "\n",
        "class Manager(Employee):\n",
        "    def __init__(self, hours, rate, bonus):\n",
        "        super().__init__(hours, rate)\n",
        "        self.bonus = bonus\n",
        "\n",
        "    def calculate_salary(self):\n",
        "        return super().calculate_salary() + self.bonus\n",
        "\n"
      ],
      "metadata": {
        "id": "ukC1x6TNeR6U"
      },
      "execution_count": 50,
      "outputs": []
    },
    {
      "cell_type": "code",
      "source": [
        "manager = Manager(40, 20, 500)\n",
        "print(manager.calculate_salary())"
      ],
      "metadata": {
        "colab": {
          "base_uri": "https://localhost:8080/"
        },
        "id": "l3uFdF-SegOq",
        "outputId": "61dd7d5f-1869-46f1-fba2-f64596d281df"
      },
      "execution_count": 51,
      "outputs": [
        {
          "output_type": "stream",
          "name": "stdout",
          "text": [
            "1300\n"
          ]
        }
      ]
    }
  ]
}